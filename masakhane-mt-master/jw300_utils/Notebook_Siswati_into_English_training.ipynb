{
 "cells": [
  {
   "cell_type": "markdown",
   "metadata": {
    "id": "Igc5itf-xMGj"
   },
   "source": [
    "# Masakhane - Reverse Machine Translation for African Languages (Using JoeyNMT)"
   ]
  },
  {
   "cell_type": "markdown",
   "metadata": {},
   "source": [
    "> ## NB\n",
    ">### - The purpose of this Notebook is to build models that translate African languages(target language) *into* English(source language). This will allow us to in future be able to make translations from one African language to the other. If you'd like to translate *from* English, please use [this](https://github.com/masakhane-io/masakhane-mt/blob/master/starter_notebook.ipynb) starter notebook instead.\n",
    "\n",
    ">### - We call this reverse training because normally we build models that make translations from the source language(English) to the target language. But in this case we are doing the reverse; building models that make translations from the target language to the source(English)"
   ]
  },
  {
   "cell_type": "markdown",
   "metadata": {
    "id": "x4fXCKCf36IK"
   },
   "source": [
    "## Note before beginning:\n",
    "### - The idea is that you should be able to make minimal changes to this in order to get SOME result for your own translation corpus. \n",
    "\n",
    "### - The tl;dr: Go to the **\"TODO\"** comments which will tell you what to update to get up and running\n",
    "\n",
    "### - If you actually want to have a clue what you're doing, read the text and peek at the links\n",
    "\n",
    "### - With 100 epochs, it should take around 7 hours to run in Google Colab\n",
    "\n",
    "### - Once you've gotten a result for your language, please attach and email your notebook that generated it to masakhanetranslation@gmail.com\n",
    "\n",
    "### - If you care enough and get a chance, doing a brief background on your language would be amazing. See examples in  [(Martinus, 2019)](https://arxiv.org/abs/1906.05685)"
   ]
  },
  {
   "cell_type": "markdown",
   "metadata": {
    "id": "l929HimrxS0a"
   },
   "source": [
    "## Retrieve your data & make a parallel corpus\n",
    "\n",
    "If you are wanting to use the JW300 data referenced on the Masakhane website or in our GitHub repo, you can use `opus-tools` to convert the data into a convenient format. `opus_read` from that package provides a convenient tool for reading the native aligned XML files and to convert them to TMX format. The tool can also be used to fetch relevant files from OPUS on the fly and to filter the data as necessary. [Read the documentation](https://pypi.org/project/opustools-pkg/) for more details.\n",
    "\n",
    "Once you have your corpus files in TMX format (an xml structure which will include the sentences in your target language and your source language in a single file), we recommend reading them into a pandas dataframe. Thankfully, Jade wrote a silly `tmx2dataframe` package which converts your tmx file to a pandas dataframe. "
   ]
  },
  {
   "cell_type": "code",
   "execution_count": 1,
   "metadata": {
    "colab": {
     "base_uri": "https://localhost:8080/",
     "height": 34
    },
    "id": "oGRmDELn7Az0",
    "outputId": "807c3318-4a3e-483b-fed0-142c2b9f926a"
   },
   "outputs": [],
   "source": [
    "# remove the comments when using kaggle\n",
    "# from google.colab import drive\n",
    "# drive.mount('/content/drive')"
   ]
  },
  {
   "cell_type": "code",
   "execution_count": 20,
   "metadata": {
    "id": "Cn3tgQLzUxwn"
   },
   "outputs": [],
   "source": [
    "# TODO: Set your source and target languages. Keep in mind, these traditionally use language codes as found here:\n",
    "# These will also become the suffix's of all vocab and corpus files used throughout\n",
    "import os\n",
    "source_language = \"en\"\n",
    "target_language = \"ss\"  # ss - Siswati\n",
    "lc = False  # If True, lowercase the data.\n",
    "seed = 42  # Random seed for shuffling.\n",
    "tag = \"debug\" # Give a unique name to your folder - this is to ensure you don't rewrite any models you've already submitted\n",
    "\n",
    "os.environ[\"src\"] = source_language # Sets them in bash as well, since we often use bash scripts\n",
    "os.environ[\"tgt\"] = target_language\n",
    "os.environ[\"tag\"] = tag\n",
    "\n",
    "# # This will save it to a folder in our gdrive instead!\n",
    "# !mkdir -p \"/content/drive/My Drive/masakhane/$tgt-$src-$tag\"\n",
    "# os.environ[\"gdrive_path\"] = \"/content/drive/My Drive/masakhane/%s-%s-%s\" % (target_language, source_language, tag)\n",
    "\n",
    "# create a relative path\n",
    "# path = \"%s-%s-%s\" % (target_language, source_language, tag)\n",
    "\n",
    "gdrive_path = os.path.join(\"joeynmt\", \"content\", target_language + source_language )"
   ]
  },
  {
   "cell_type": "code",
   "execution_count": 21,
   "metadata": {
    "colab": {
     "base_uri": "https://localhost:8080/",
     "height": 34
    },
    "id": "kBSgJHEw7Nvx",
    "outputId": "3bdb0703-874f-4d53-e5b2-7802a937720b"
   },
   "outputs": [
    {
     "name": "stdout",
     "output_type": "stream",
     "text": [
      "joeynmt\\content\\ssen\n"
     ]
    }
   ],
   "source": [
    "!echo $gdrive_path"
   ]
  },
  {
   "cell_type": "code",
   "execution_count": 3,
   "metadata": {
    "colab": {
     "base_uri": "https://localhost:8080/",
     "height": 34
    },
    "id": "gA75Fs9ys8Y9",
    "outputId": "e415db4b-66fe-4785-b80f-6e375809c1bf"
   },
   "outputs": [],
   "source": [
    "# # Install opus-tools\n",
    "# ! pip install opustools-pkg"
   ]
  },
  {
   "cell_type": "code",
   "execution_count": 4,
   "metadata": {
    "colab": {
     "base_uri": "https://localhost:8080/",
     "height": 208
    },
    "id": "xq-tDZVks7ZD",
    "outputId": "c19ee6c0-e652-486c-a1fd-0c5fd265b204"
   },
   "outputs": [],
   "source": [
    "# # Downloading our corpus\n",
    "# ! opus_read -d JW300 -s $src -t $tgt -wm moses -w jw300.$src jw300.$tgt -q\n",
    "\n",
    "# # extract the corpus file\n",
    "# ! gunzip JW300_latest_xml_$src-$tgt.xml.gz"
   ]
  },
  {
   "cell_type": "code",
   "execution_count": 6,
   "metadata": {
    "colab": {
     "base_uri": "https://localhost:8080/",
     "height": 590
    },
    "id": "n48GDRnP8y2G",
    "outputId": "e27c546b-8b90-43c3-9123-738d3473f12a"
   },
   "outputs": [],
   "source": [
    "# Download the global test set.\n",
    "# ! wget https://raw.githubusercontent.com/juliakreutzer/masakhane/master/jw300_utils/test/test.en-any.en\n",
    "  \n",
    "# # And the specific test set for this language pair.\n",
    "# os.environ[\"trg\"] = target_language \n",
    "# os.environ[\"src\"] = source_language \n",
    "\n",
    "# ! wget https://raw.githubusercontent.com/juliakreutzer/masakhane/master/jw300_utils/test/test.en-$trg.en \n",
    "# ! mv test.en-$trg.en test.en\n",
    "# ! wget https://raw.githubusercontent.com/juliakreutzer/masakhane/master/jw300_utils/test/test.en-$trg.$trg \n",
    "# ! mv test.en-$trg.$trg test.$trg"
   ]
  },
  {
   "cell_type": "code",
   "execution_count": 23,
   "metadata": {
    "colab": {
     "base_uri": "https://localhost:8080/",
     "height": 34
    },
    "id": "NqDG-CI28y2L",
    "outputId": "20dc514e-b0d4-4c53-c492-705e42fbbe7c"
   },
   "outputs": [
    {
     "name": "stdout",
     "output_type": "stream",
     "text": [
      "Loaded 3571 global test sentences to filter from the training/dev data.\n"
     ]
    }
   ],
   "source": [
    "# Read the test data to filter from train and dev splits.\n",
    "# Store english portion in set for quick filtering checks.\n",
    "en_test_sents = set()\n",
    "filter_test_sents = \"test.en-any.en\"\n",
    "j = 0\n",
    "with open(filter_test_sents, encoding='utf-8') as f:\n",
    "  for line in f:\n",
    "    en_test_sents.add(line.strip())\n",
    "    j += 1\n",
    "print('Loaded {} global test sentences to filter from the training/dev data.'.format(j))"
   ]
  },
  {
   "cell_type": "code",
   "execution_count": 24,
   "metadata": {
    "colab": {
     "base_uri": "https://localhost:8080/",
     "height": 161
    },
    "id": "3CNdwLBCfSIl",
    "outputId": "fc8f80b7-2f12-4f4b-ca94-3eb0258de6ee"
   },
   "outputs": [
    {
     "name": "stdout",
     "output_type": "stream",
     "text": [
      "Loaded data and skipped 0/256501 lines since contained in test set.\n"
     ]
    },
    {
     "data": {
      "text/html": [
       "<div>\n",
       "<style scoped>\n",
       "    .dataframe tbody tr th:only-of-type {\n",
       "        vertical-align: middle;\n",
       "    }\n",
       "\n",
       "    .dataframe tbody tr th {\n",
       "        vertical-align: top;\n",
       "    }\n",
       "\n",
       "    .dataframe thead th {\n",
       "        text-align: right;\n",
       "    }\n",
       "</style>\n",
       "<table border=\"1\" class=\"dataframe\">\n",
       "  <thead>\n",
       "    <tr style=\"text-align: right;\">\n",
       "      <th></th>\n",
       "      <th>source_sentence</th>\n",
       "      <th>target_sentence</th>\n",
       "    </tr>\n",
       "  </thead>\n",
       "  <tbody>\n",
       "    <tr>\n",
       "      <th>0</th>\n",
       "      <td>In the beginning God created the heavens and t...</td>\n",
       "      <td>Ekucaleni Nkulunkulu wadala lizulu nemhlaba.</td>\n",
       "    </tr>\n",
       "    <tr>\n",
       "      <th>1</th>\n",
       "      <td>Now the earth was formless and empty, darkness...</td>\n",
       "      <td>Umhlaba wawulihlane lelingenalutfo, bumnyama b...</td>\n",
       "    </tr>\n",
       "    <tr>\n",
       "      <th>2</th>\n",
       "      <td>And God said, \"Let there be light,\" and there ...</td>\n",
       "      <td>Nkulunkulu watsi: “Akube khona kukhanya,” kwab...</td>\n",
       "    </tr>\n",
       "  </tbody>\n",
       "</table>\n",
       "</div>"
      ],
      "text/plain": [
       "                                     source_sentence  \\\n",
       "0  In the beginning God created the heavens and t...   \n",
       "1  Now the earth was formless and empty, darkness...   \n",
       "2  And God said, \"Let there be light,\" and there ...   \n",
       "\n",
       "                                     target_sentence  \n",
       "0       Ekucaleni Nkulunkulu wadala lizulu nemhlaba.  \n",
       "1  Umhlaba wawulihlane lelingenalutfo, bumnyama b...  \n",
       "2  Nkulunkulu watsi: “Akube khona kukhanya,” kwab...  "
      ]
     },
     "execution_count": 24,
     "metadata": {},
     "output_type": "execute_result"
    }
   ],
   "source": [
    "import pandas as pd\n",
    "\n",
    "# TMX file to dataframe\n",
    "source_file = 'jw300.en-ss.' + source_language\n",
    "target_file = 'jw300.en-ss.' + target_language\n",
    "\n",
    "source = []\n",
    "target = []\n",
    "skip_lines = []  # Collect the line numbers of the source portion to skip the same lines for the target portion.\n",
    "with open(source_file, encoding='utf-8') as f:\n",
    "    for i, line in enumerate(f):\n",
    "        # Skip sentences that are contained in the test set.\n",
    "        if line.strip() not in en_test_sents:\n",
    "            source.append(line.strip())\n",
    "        else:\n",
    "            skip_lines.append(i)             \n",
    "with open(target_file, encoding='utf-8') as f:\n",
    "    for j, line in enumerate(f):\n",
    "        # Only add to corpus if corresponding source was not skipped.\n",
    "        if j not in skip_lines:\n",
    "            target.append(line.strip())\n",
    "    \n",
    "print('Loaded data and skipped {}/{} lines since contained in test set.'.format(len(skip_lines), i))\n",
    "    \n",
    "df = pd.DataFrame(zip(source, target), columns=['source_sentence', 'target_sentence'])\n",
    "# if you get TypeError: data argument can't be an iterator is because of your zip version run this below\n",
    "#df = pd.DataFrame(list(zip(source, target)), columns=['source_sentence', 'target_sentence'])\n",
    "df.head(3)"
   ]
  },
  {
   "cell_type": "markdown",
   "metadata": {
    "id": "YkuK3B4p2AkN"
   },
   "source": [
    "## Pre-processing and export\n",
    "\n",
    "It is generally a good idea to remove duplicate translations and conflicting translations from the corpus. In practice, these public corpora include some number of these that need to be cleaned.\n",
    "\n",
    "In addition we will split our data into dev/test/train and export to the filesystem."
   ]
  },
  {
   "cell_type": "code",
   "execution_count": 25,
   "metadata": {},
   "outputs": [
    {
     "name": "stderr",
     "output_type": "stream",
     "text": [
      "d:\\b eng\\nmp - translation\\masakhane-mt-master\\venv\\lib\\site-packages\\pandas\\util\\_decorators.py:311: SettingWithCopyWarning: \n",
      "A value is trying to be set on a copy of a slice from a DataFrame\n",
      "\n",
      "See the caveats in the documentation: https://pandas.pydata.org/pandas-docs/stable/user_guide/indexing.html#returning-a-view-versus-a-copy\n",
      "  return func(*args, **kwargs)\n"
     ]
    }
   ],
   "source": [
    "# drop duplicate translations\n",
    "df_pp = df.drop_duplicates()\n",
    "\n",
    "# drop conflicting translations\n",
    "# (this is optional and something that you might want to comment out \n",
    "# depending on the size of your corpus)\n",
    "df_pp.drop_duplicates(subset='source_sentence', inplace=True)\n",
    "df_pp.drop_duplicates(subset='target_sentence', inplace=True)\n",
    "\n",
    "# Shuffle the data to remove bias in dev set selection.\n",
    "df_pp = df_pp.sample(frac=1, random_state=seed).reset_index(drop=True)"
   ]
  },
  {
   "cell_type": "code",
   "execution_count": 26,
   "metadata": {
    "colab": {
     "base_uri": "https://localhost:8080/",
     "height": 278
    },
    "id": "Z_1BwAApEtMk",
    "outputId": "d99a471a-6fb6-4941-950c-7c90f2a0789d",
    "scrolled": true
   },
   "outputs": [
    {
     "name": "stdout",
     "output_type": "stream",
     "text": [
      "Requirement already satisfied: fuzzywuzzy in d:\\b eng\\nmp - translation\\masakhane-mt-master\\venv\\lib\\site-packages (0.18.0)\n",
      "Requirement already satisfied: python-Levenshtein in d:\\b eng\\nmp - translation\\masakhane-mt-master\\venv\\lib\\site-packages (0.23.0)\n",
      "Requirement already satisfied: Levenshtein==0.23.0 in d:\\b eng\\nmp - translation\\masakhane-mt-master\\venv\\lib\\site-packages (from python-Levenshtein) (0.23.0)\n",
      "Requirement already satisfied: rapidfuzz<4.0.0,>=3.1.0 in d:\\b eng\\nmp - translation\\masakhane-mt-master\\venv\\lib\\site-packages (from Levenshtein==0.23.0->python-Levenshtein) (3.4.0)\n"
     ]
    }
   ],
   "source": [
    "# Install fuzzy wuzzy to remove \"almost duplicate\" sentences in the\n",
    "# test and training sets.\n",
    "! pip install fuzzywuzzy\n",
    "! pip install python-Levenshtein\n",
    "import time\n",
    "from fuzzywuzzy import process\n",
    "import numpy as np\n",
    "from os import cpu_count\n",
    "from functools import partial\n",
    "from multiprocessing import Pool\n",
    "\n",
    "\n",
    "# reset the index of the training set after previous filtering\n",
    "df_pp.reset_index(drop=False, inplace=True)\n",
    "\n",
    "# Remove samples from the training data set if they \"almost overlap\" with the\n",
    "# samples in the test set.\n",
    "\n",
    "# Filtering function. Adjust pad to narrow down the candidate matches to\n",
    "# within a certain length of characters of the given sample.\n",
    "def fuzzfilter(sample, candidates, pad):\n",
    "  candidates = [x for x in candidates if len(x) <= len(sample)+pad and len(x) >= len(sample)-pad] \n",
    "  if len(candidates) > 0:\n",
    "    return process.extractOne(sample, candidates)[1]\n",
    "  else:\n",
    "    return np.nan"
   ]
  },
  {
   "cell_type": "code",
   "execution_count": 27,
   "metadata": {
    "id": "92EsgTaY3B4H"
   },
   "outputs": [],
   "source": [
    "# start_time = time.time()\n",
    "# ### iterating over pandas dataframe rows is not recomended, let use multi processing to apply the function\n",
    "\n",
    "# with Pool(cpu_count()-1) as pool:\n",
    "#     scores = pool.map(partial(fuzzfilter, candidates=list(en_test_sents), pad=5), df_pp['source_sentence'])\n",
    "# hours, rem = divmod(time.time() - start_time, 3600)\n",
    "# minutes, seconds = divmod(rem, 60)\n",
    "# print(\"done in {}h:{}min:{}seconds\".format(hours, minutes, seconds))\n",
    "\n",
    "# # Filter out \"almost overlapping samples\"\n",
    "# df_pp = df_pp.assign(scores=scores)\n",
    "# df_pp = df_pp[df_pp['scores'] < 95]"
   ]
  },
  {
   "cell_type": "code",
   "execution_count": 28,
   "metadata": {
    "colab": {
     "base_uri": "https://localhost:8080/",
     "height": 836
    },
    "id": "hxxBOCA-xXhy",
    "outputId": "e009b507-337c-4c33-e07a-172790f9755f"
   },
   "outputs": [],
   "source": [
    "# This section does the split between train/dev for the parallel corpora then saves them as separate files\n",
    "# We use 1000 dev test and the given test set.\n",
    "import csv\n",
    "\n",
    "# Do the split between dev/train and create parallel corpora\n",
    "num_dev_patterns = 1000\n",
    "\n",
    "# Optional: lower case the corpora - this will make it easier to generalize, but without proper casing.\n",
    "if lc:  # Julia: making lowercasing optional\n",
    "    df_pp[\"source_sentence\"] = df_pp[\"source_sentence\"].str.lower()\n",
    "    df_pp[\"target_sentence\"] = df_pp[\"target_sentence\"].str.lower()\n",
    "\n",
    "# Julia: test sets are already generated\n",
    "dev = df_pp.tail(num_dev_patterns) # Herman: Error in original\n",
    "stripped = df_pp.drop(df_pp.tail(num_dev_patterns).index)\n",
    "\n",
    "with open(\"train.\"+source_language, \"w\", encoding='utf-8') as src_file, open(\"train.\"+target_language, \"w\", encoding='utf-8') as trg_file:\n",
    "  for index, row in stripped.iterrows():\n",
    "    src_file.write(row[\"source_sentence\"]+\"\\n\")\n",
    "    trg_file.write(row[\"target_sentence\"]+\"\\n\")\n",
    "    \n",
    "with open(\"dev.\"+source_language, \"w\", encoding='utf-8') as src_file, open(\"dev.\"+target_language, \"w\", encoding='utf-8') as trg_file:\n",
    "  for index, row in dev.iterrows():\n",
    "    src_file.write(row[\"source_sentence\"]+\"\\n\")\n",
    "    trg_file.write(row[\"target_sentence\"]+\"\\n\")\n",
    "\n",
    "#stripped[[\"source_sentence\"]].to_csv(\"train.\"+source_language, header=False, index=False)  # Herman: Added `header=False` everywhere\n",
    "#stripped[[\"target_sentence\"]].to_csv(\"train.\"+target_language, header=False, index=False)  # Julia: Problematic handling of quotation marks.\n",
    "\n",
    "#dev[[\"source_sentence\"]].to_csv(\"dev.\"+source_language, header=False, index=False)\n",
    "#dev[[\"target_sentence\"]].to_csv(\"dev.\"+target_language, header=False, index=False)\n",
    "\n",
    "# Doublecheck the format below. There should be no extra quotation marks or weird characters.\n",
    "# TODO: INVESTIGATE BELOW\n",
    "# ! head train.*\n",
    "# ! head dev.*"
   ]
  },
  {
   "cell_type": "markdown",
   "metadata": {
    "id": "epeCydmCyS8X"
   },
   "source": [
    "\n",
    "\n",
    "---\n",
    "\n",
    "\n",
    "## Installation of JoeyNMT\n",
    "\n",
    "JoeyNMT is a simple, minimalist NMT package which is useful for learning and teaching. Check out the documentation for JoeyNMT [here](https://joeynmt.readthedocs.io)  "
   ]
  },
  {
   "cell_type": "code",
   "execution_count": 17,
   "metadata": {
    "colab": {
     "base_uri": "https://localhost:8080/",
     "height": 1000
    },
    "id": "iBRMm4kMxZ8L",
    "outputId": "97a36759-3f50-4498-f54e-9d36cb35c9ab"
   },
   "outputs": [],
   "source": [
    "# # Install JoeyNMT\n",
    "# ! git clone https://github.com/joeynmt/joeynmt.git\n",
    "# ! cd joeynmt; pip3 install .\n",
    "# # Install Pytorch with GPU support v1.7.1.\n",
    "# ! pip install torch==1.8.0+cu101 -f https://download.pytorch.org/whl/torch_stable.html\n",
    "\n",
    "# # Install JoeyNMT, and clone it for the scrits folder\n",
    "#! pip install joeynmt\n",
    "# ! git clone https://github.com/joeynmt/joeynmt.git"
   ]
  },
  {
   "cell_type": "markdown",
   "metadata": {
    "id": "AaE77Tcppex9"
   },
   "source": [
    "# Preprocessing the Data into Subword BPE Tokens\n",
    "\n",
    "- One of the most powerful improvements for agglutinative languages (a feature of most Bantu languages) is using BPE tokenization [ (Sennrich, 2015) ](https://arxiv.org/abs/1508.07909).\n",
    "\n",
    "- It was also shown that by optimizing the umber of BPE codes we significantly improve results for low-resourced languages [(Sennrich, 2019)](https://www.aclweb.org/anthology/P19-1021) [(Martinus, 2019)](https://arxiv.org/abs/1906.05685)\n",
    "\n",
    "- Below we have the scripts for doing BPE tokenization of our data. We use 4000 tokens as recommended by [(Sennrich, 2019)](https://www.aclweb.org/anthology/P19-1021). You do not need to change anything. Simply running the below will be suitable. "
   ]
  },
  {
   "cell_type": "code",
   "execution_count": 29,
   "metadata": {
    "colab": {
     "base_uri": "https://localhost:8080/",
     "height": 416
    },
    "id": "H-TyjtmXB1mL",
    "outputId": "9867ad89-e5ec-4007-b952-d73a158ff5cf"
   },
   "outputs": [
    {
     "name": "stderr",
     "output_type": "stream",
     "text": [
      "The system cannot find the file specified.\n",
      "The system cannot find the file specified.\n",
      "A subdirectory or file joeynmt\\data\\ssen already exists.\n"
     ]
    },
    {
     "name": "stdout",
     "output_type": "stream",
     "text": [
      "train.bpe.en\n",
      "train.bpe.ss\n",
      "train.en\n",
      "train.en-ss.bpe.en\n",
      "train.en-ss.bpe.ss\n",
      "train.en-ss.en\n",
      "train.en-ss.ss\n",
      "train.ss\n",
      "        8 file(s) copied.\n",
      "test.en-any.en\n",
      "test.en-ss.bpe.en\n",
      "test.en-ss.bpe.ss\n",
      "test.en-ss.en\n",
      "test.en-ss.ss\n",
      "        5 file(s) copied.\n",
      "dev.bpe.en\n",
      "dev.bpe.ss\n",
      "dev.en\n",
      "dev.en-ss.bpe.en\n",
      "dev.en-ss.bpe.ss\n",
      "dev.en-ss.en\n",
      "dev.en-ss.ss\n",
      "dev.ss\n",
      "        8 file(s) copied.\n",
      "        1 file(s) copied.\n",
      " Volume in drive D is S'fiso\n",
      " Volume Serial Number is 164D-635E\n",
      "\n",
      " Directory of D:\\B Eng\\NMP - TRANSLATION\\masakhane-mt-master\\jw300_utils\\joeynmt\\data\\ssen\n",
      "\n",
      "08-Feb-24  12:27    <DIR>          .\n",
      "08-Feb-24  12:27    <DIR>          ..\n",
      "08-Feb-24  12:26            31,869 bpe.codes.4000\n",
      "08-Feb-24  12:27            88,914 dev.bpe.en\n",
      "08-Feb-24  12:27           108,434 dev.bpe.ss\n",
      "08-Feb-24  12:19            65,172 dev.en\n",
      "08-Feb-24  12:10            76,095 dev.en-ss.bpe.en\n",
      "08-Feb-24  12:10            93,824 dev.en-ss.bpe.ss\n",
      "08-Feb-24  12:07            65,172 dev.en-ss.en\n",
      "08-Feb-24  12:07            69,826 dev.en-ss.ss\n",
      "08-Feb-24  12:19            69,826 dev.ss\n",
      "14-Jun-22  11:49           277,791 test.en-any.en\n",
      "08-Feb-24  12:10           222,015 test.en-ss.bpe.en\n",
      "08-Feb-24  12:10           271,186 test.en-ss.bpe.ss\n",
      "14-Jun-22  11:49           204,132 test.en-ss.en\n",
      "14-Jun-22  11:49           221,425 test.en-ss.ss\n",
      "08-Feb-24  12:27        15,111,320 train.bpe.en\n",
      "08-Feb-24  12:27        18,414,439 train.bpe.ss\n",
      "08-Feb-24  12:19        10,992,686 train.en\n",
      "08-Feb-24  12:09        12,872,636 train.en-ss.bpe.en\n",
      "08-Feb-24  12:10        15,909,405 train.en-ss.bpe.ss\n",
      "08-Feb-24  12:06        10,992,710 train.en-ss.en\n",
      "08-Feb-24  12:07        11,827,254 train.en-ss.ss\n",
      "08-Feb-24  12:19        11,827,243 train.ss\n",
      "              22 File(s)    109,813,374 bytes\n",
      "               2 Dir(s)  13,514,682,368 bytes free\n",
      "train.bpe.en\n",
      "train.bpe.ss\n",
      "train.en\n",
      "train.en-ss.bpe.en\n",
      "train.en-ss.bpe.ss\n",
      "train.en-ss.en\n",
      "train.en-ss.ss\n",
      "train.ss\n",
      "        8 file(s) copied.\n",
      "test.en-any.en\n",
      "test.en-ss.bpe.en\n",
      "test.en-ss.bpe.ss\n",
      "test.en-ss.en\n",
      "test.en-ss.ss\n",
      "        5 file(s) copied.\n",
      "dev.bpe.en\n",
      "dev.bpe.ss\n",
      "dev.en\n",
      "dev.en-ss.bpe.en\n",
      "dev.en-ss.bpe.ss\n",
      "dev.en-ss.en\n",
      "dev.en-ss.ss\n",
      "dev.ss\n",
      "        8 file(s) copied.\n",
      "        1 file(s) copied.\n",
      " Volume in drive D is S'fiso\n",
      " Volume Serial Number is 164D-635E\n",
      "\n",
      " Directory of D:\\B Eng\\NMP - TRANSLATION\\masakhane-mt-master\\jw300_utils\\joeynmt\\content\\ssen\n",
      "\n",
      "08-Feb-24  12:27    <DIR>          .\n",
      "08-Feb-24  12:27    <DIR>          ..\n",
      "08-Feb-24  12:26            31,869 bpe.codes.4000\n",
      "08-Feb-24  12:27            88,914 dev.bpe.en\n",
      "08-Feb-24  12:27           108,434 dev.bpe.ss\n",
      "08-Feb-24  12:19            65,172 dev.en\n",
      "08-Feb-24  12:10            76,095 dev.en-ss.bpe.en\n",
      "08-Feb-24  12:10            93,824 dev.en-ss.bpe.ss\n",
      "08-Feb-24  12:07            65,172 dev.en-ss.en\n",
      "08-Feb-24  12:07            69,826 dev.en-ss.ss\n",
      "08-Feb-24  12:19            69,826 dev.ss\n",
      "14-Jun-22  11:49           277,791 test.en-any.en\n",
      "08-Feb-24  12:10           222,015 test.en-ss.bpe.en\n",
      "08-Feb-24  12:10           271,186 test.en-ss.bpe.ss\n",
      "14-Jun-22  11:49           204,132 test.en-ss.en\n",
      "14-Jun-22  11:49           221,425 test.en-ss.ss\n",
      "08-Feb-24  12:27        15,111,320 train.bpe.en\n",
      "08-Feb-24  12:27        18,414,439 train.bpe.ss\n",
      "08-Feb-24  12:19        10,992,686 train.en\n",
      "08-Feb-24  12:09        12,872,636 train.en-ss.bpe.en\n",
      "08-Feb-24  12:10        15,909,405 train.en-ss.bpe.ss\n",
      "08-Feb-24  12:06        10,992,710 train.en-ss.en\n",
      "08-Feb-24  12:07        11,827,254 train.en-ss.ss\n",
      "08-Feb-24  12:19        11,827,243 train.ss\n",
      "              22 File(s)    109,813,374 bytes\n",
      "               2 Dir(s)  13,404,561,408 bytes free\n"
     ]
    }
   ],
   "source": [
    "# One of the huge boosts in NMT performance was to use a different method of tokenizing. \n",
    "# Usually, NMT would tokenize by words. However, using a method called BPE gave amazing boosts to performance\n",
    "\n",
    "# Do subword NMT\n",
    "from os import path\n",
    "os.environ[\"src\"] = source_language # Sets them in bash as well, since we often use bash scripts\n",
    "os.environ[\"tgt\"] = target_language\n",
    "\n",
    "src = \"en\"\n",
    "tgt = \"ss\"\n",
    "gdrive_path = path.join(\"joeynmt\", \"content\", target_language + source_language )\n",
    "data_path = path.join(\"joeynmt\", \"data\", target_language + source_language )\n",
    "\n",
    "# Learn BPEs on the training data.\n",
    "os.environ[\"data_path\"] = path.join(\"joeynmt\", \"data\",target_language + source_language ) # Herman! \n",
    "! subword-nmt learn-joint-bpe-and-vocab --input train.{src} train.{tgt} -s 4000 -o bpe.codes.4000 --write-vocabulary vocab.{src} vocab.{tgt}\n",
    "\n",
    "# # Apply BPE splits to the development and test data.\n",
    "! subword-nmt apply-bpe -c bpe.codes.4000 --vocabulary vocab.{src} < train.{src} > train.bpe.{src}\n",
    "! subword-nmt apply-bpe -c bpe.codes.4000 --vocabulary vocab.{tgt} < train.{tgt} > train.bpe.{tgt}\n",
    "\n",
    "! subword-nmt apply-bpe -c bpe.codes.4000 --vocabulary vocab.{src} < dev.{src} > dev.bpe.{src}\n",
    "! subword-nmt apply-bpe -c bpe.codes.4000 --vocabulary vocab.{tgt} < dev.{tgt} > dev.bpe.{tgt}\n",
    "! subword-nmt apply-bpe -c bpe.codes.4000 --vocabulary vocab.{src} < test.{src} > test.bpe.{src}\n",
    "! subword-nmt apply-bpe -c bpe.codes.4000 --vocabulary vocab.{tgt} < test.{tgt} > test.bpe.{tgt}\n",
    "\n",
    "# # Create directory, move everyone we care about to the correct location\n",
    "! mkdir {data_path}\n",
    "! copy train.* {data_path}\n",
    "! copy test.* {data_path}\n",
    "! copy dev.* {data_path}\n",
    "! copy bpe.codes.4000 {data_path}\n",
    "! dir {data_path}\n",
    "\n",
    "# # Also move everything we care about to a mounted location in google drive (relevant if running in colab) at gdrive_path\n",
    "! copy train.* {gdrive_path}\n",
    "! copy test.* {gdrive_path}\n",
    "! copy dev.* {gdrive_path}\n",
    "! copy bpe.codes.4000 {gdrive_path}\n",
    "! dir {gdrive_path}\n",
    "\n",
    "# Create that vocab using build_vocab\n",
    "# ! sudo chmod 777 joeynmt/scripts/build_vocab.py\n",
    "! python joeynmt/scripts/build_vocab.py joeynmt/data/{tgt}{src}/train.bpe.{src} joeynmt/data/{tgt}{src}/train.bpe.{tgt} --output_path joeynmt/data/{tgt}{src}/vocab.txt\n",
    "\n",
    "# Some output\n",
    "# ! echo \"BPE Siswati Sentences\"\n",
    "# ! tail -n 5 test.bpe.{tgt}\n",
    "# ! echo \"Combined BPE Vocab\"\n",
    "# ! tail -n 10 joeynmt/data/{tgt}{src}/vocab.txt  # Herman"
   ]
  },
  {
   "cell_type": "code",
   "execution_count": 9,
   "metadata": {
    "colab": {
     "base_uri": "https://localhost:8080/",
     "height": 69
    },
    "id": "IlMitUHR8Qy-",
    "outputId": "1656a274-cddb-47a2-bf71-6f64c5ef8a24"
   },
   "outputs": [
    {
     "name": "stdout",
     "output_type": "stream",
     "text": [
      "train.bpe.en\n",
      "train.bpe.ss\n",
      "train.en\n",
      "train.ss\n",
      "        4 file(s) copied.\n",
      "test.bpe.en\n",
      "test.bpe.ss\n",
      "test.en\n",
      "test.en-any.en\n",
      "test.ss\n",
      "        5 file(s) copied.\n",
      "dev.bpe.en\n",
      "dev.bpe.ss\n",
      "dev.en\n",
      "dev.ss\n",
      "        4 file(s) copied.\n",
      "        1 file(s) copied.\n",
      " Volume in drive D is S'fiso\n",
      " Volume Serial Number is 164D-635E\n",
      "\n",
      " Directory of D:\\B Eng\\NMP - TRANSLATION\\masakhane-mt-master\\jw300_utils\\joeynmt\\content\\ssen\n",
      "\n",
      "07-Feb-24  10:05    <DIR>          .\n",
      "07-Feb-24  10:05    <DIR>          ..\n",
      "07-Feb-24  01:45            31,625 bpe.codes.4000\n",
      "07-Feb-24  01:46            69,766 dev.bpe.en\n",
      "07-Feb-24  01:46            83,548 dev.bpe.ss\n",
      "07-Feb-24  00:29            50,117 dev.en\n",
      "07-Feb-24  00:29            52,856 dev.ss\n",
      "07-Feb-24  01:46           259,080 test.bpe.en\n",
      "07-Feb-24  01:46           315,532 test.bpe.ss\n",
      "14-Jun-22  11:49           204,132 test.en\n",
      "14-Jun-22  11:49           277,791 test.en-any.en\n",
      "14-Jun-22  11:49           221,425 test.ss\n",
      "07-Feb-24  01:46         9,960,137 train.bpe.en\n",
      "07-Feb-24  01:46        11,879,519 train.bpe.ss\n",
      "07-Feb-24  00:29         7,108,656 train.en\n",
      "07-Feb-24  00:29         7,529,139 train.ss\n",
      "              14 File(s)     38,043,323 bytes\n",
      "               2 Dir(s)  17,649,647,616 bytes free\n"
     ]
    }
   ],
   "source": [
    "gdrive_path = path.join(\"joeynmt\", \"content\", target_language + source_language )\n",
    "\n",
    "# Also move everything we care about to a mounted location in google drive (relevant if running in colab) at gdrive_path\n",
    "! copy train.* {gdrive_path}\n",
    "! copy test.* {gdrive_path}\n",
    "! copy dev.* {gdrive_path}\n",
    "! copy bpe.codes.4000 {gdrive_path}\n",
    "! dir {gdrive_path}"
   ]
  },
  {
   "cell_type": "markdown",
   "metadata": {
    "id": "Ixmzi60WsUZ8"
   },
   "source": [
    "# Creating the JoeyNMT Config\n",
    "\n",
    "JoeyNMT requires a yaml config. We provide a template below. We've also set a number of defaults with it, that you may play with!\n",
    "\n",
    "- We used Transformer architecture \n",
    "- We set our dropout to reasonably high: 0.3 (recommended in  [(Sennrich, 2019)](https://www.aclweb.org/anthology/P19-1021))\n",
    "\n",
    "Things worth playing with:\n",
    "- The batch size (also recommended to change for low-resourced languages)\n",
    "- The number of epochs (we've set it at 30 just so it runs in about an hour, for testing purposes)\n",
    "- The decoder options (beam_size, alpha)\n",
    "- Evaluation metrics (BLEU versus Crhf4)"
   ]
  },
  {
   "cell_type": "code",
   "execution_count": 10,
   "metadata": {
    "id": "h8TMgv1p3L1z"
   },
   "outputs": [],
   "source": [
    "# This creates the config file for our JoeyNMT system. It might seem overwhelming so we've provided a couple of useful parameters you'll need to update\n",
    "# (You can of course play with all the parameters if you'd like!)\n",
    "import os\n",
    "\n",
    "name = '%s%s' % (target_language, source_language)\n",
    "gdrive_path = path.join(\"joeynmt\" + os.sep, \"content\", target_language + source_language )   # .replace(\"\\\\\",\"/\")\n",
    "os.environ[\"gdrive_path\"] = gdrive_path\n",
    "\n",
    "# Create the config\n",
    "config = \"\"\"\n",
    "name: \"{target_language}{source_language}_reverse_transformer\"\n",
    "\n",
    "data:\n",
    "    src: \"{target_language}\"\n",
    "    trg: \"{source_language}\"\n",
    "    train: \"data/{name}/train.bpe\"\n",
    "    dev:   \"data/{name}/dev.bpe\"\n",
    "    test:  \"data/{name}/test.bpe\"\n",
    "    level: \"bpe\"\n",
    "    lowercase: False\n",
    "    max_sent_length: 100\n",
    "    src_vocab: \"data/{name}/vocab.txt\"\n",
    "    trg_vocab: \"data/{name}/vocab.txt\"\n",
    "\n",
    "testing:\n",
    "    beam_size: 5\n",
    "    alpha: 1.0\n",
    "\n",
    "training:\n",
    "    #load_model: \"{gdrive_path}/models/{name}_transformer/1.ckpt\" # if uncommented, load a pre-trained model from this checkpoint\n",
    "    random_seed: 42\n",
    "    optimizer: \"adam\"\n",
    "    normalization: \"tokens\"\n",
    "    adam_betas: [0.9, 0.999] \n",
    "    scheduling: \"plateau\"           # TODO: try switching from plateau to Noam scheduling\n",
    "    patience: 5                     # For plateau: decrease learning rate by decrease_factor if validation score has not improved for this many validation rounds.\n",
    "    learning_rate_factor: 0.5       # factor for Noam scheduler (used with Transformer)\n",
    "    learning_rate_warmup: 1000      # warmup steps for Noam scheduler (used with Transformer)\n",
    "    decrease_factor: 0.7\n",
    "    loss: \"crossentropy\"\n",
    "    learning_rate: 0.0003\n",
    "    learning_rate_min: 0.00000001\n",
    "    weight_decay: 0.0\n",
    "    label_smoothing: 0.1\n",
    "    batch_size: 4096\n",
    "    batch_type: \"token\"\n",
    "    eval_batch_size: 3600\n",
    "    eval_batch_type: \"token\"\n",
    "    batch_multiplier: 1\n",
    "    early_stopping_metric: \"ppl\"\n",
    "    epochs: 5                  # TODO: Decrease for when playing around and checking of working. Around 30 is sufficient to check if its working at all\n",
    "    validation_freq: 1000          # TODO: Set to at least once per epoch.\n",
    "    logging_freq: 100\n",
    "    eval_metric: \"bleu\"\n",
    "    model_dir: \"models/{name}_reverse_transformer\"\n",
    "    overwrite: True              # TODO: Set to True if you want to overwrite possibly existing models. \n",
    "    shuffle: True\n",
    "    use_cuda: True\n",
    "    max_output_length: 100\n",
    "    print_valid_sents: [0, 1, 2, 3]\n",
    "    keep_last_ckpts: 3\n",
    "\n",
    "model:\n",
    "    initializer: \"xavier\"\n",
    "    bias_initializer: \"zeros\"\n",
    "    init_gain: 1.0\n",
    "    embed_initializer: \"xavier\"\n",
    "    embed_init_gain: 1.0\n",
    "    tied_embeddings: True\n",
    "    tied_softmax: True\n",
    "    encoder:\n",
    "        type: \"transformer\"\n",
    "        num_layers: 6\n",
    "        num_heads: 4             # TODO: Increase to 8 for larger data.\n",
    "        embeddings:\n",
    "            embedding_dim: 256   # TODO: Increase to 512 for larger data.\n",
    "            scale: True\n",
    "            dropout: 0.2\n",
    "        # typically ff_size = 4 x hidden_size\n",
    "        hidden_size: 256         # TODO: Increase to 512 for larger data.\n",
    "        ff_size: 1024            # TODO: Increase to 2048 for larger data.\n",
    "        dropout: 0.3\n",
    "    decoder:\n",
    "        type: \"transformer\"\n",
    "        num_layers: 6\n",
    "        num_heads: 4              # TODO: Increase to 8 for larger data.\n",
    "        embeddings:\n",
    "            embedding_dim: 256    # TODO: Increase to 512 for larger data.\n",
    "            scale: True\n",
    "            dropout: 0.2\n",
    "        # typically ff_size = 4 x hidden_size\n",
    "        hidden_size: 256         # TODO: Increase to 512 for larger data.\n",
    "        ff_size: 1024            # TODO: Increase to 2048 for larger data.\n",
    "        dropout: 0.3\n",
    "\"\"\".format(name=name, gdrive_path=os.environ[\"gdrive_path\"], source_language=source_language, target_language=target_language)\n",
    "with open(\"joeynmt/configs/transformer_reverse_{name}.yaml\".format(name=name),'w') as f:\n",
    "    f.write(config)"
   ]
  },
  {
   "cell_type": "markdown",
   "metadata": {
    "id": "oEzoJtV2MIpt"
   },
   "source": [
    "# Train the Model\n",
    "\n",
    "This single line of joeynmt runs the training using the config we made above"
   ]
  },
  {
   "cell_type": "code",
   "execution_count": 5,
   "metadata": {
    "colab": {
     "base_uri": "https://localhost:8080/",
     "height": 1000
    },
    "id": "WzbNYNdjLgNb",
    "outputId": "cc18bde5-6226-4769-de84-5e5d27a6c5a8"
   },
   "outputs": [
    {
     "name": "stdout",
     "output_type": "stream",
     "text": [
      "[WinError 2] The system cannot find the file specified: 'joeynmt'\n",
      "D:\\B Eng\\NMP - TRANSLATION\\masakhane-mt-master\\jw300_utils\\joeynmt\\joeynmt\n"
     ]
    },
    {
     "name": "stderr",
     "output_type": "stream",
     "text": [
      "'D:/B' is not recognized as an internal or external command,\n",
      "operable program or batch file.\n"
     ]
    }
   ],
   "source": [
    "# Train the model\n",
    "# You can press Ctrl-C to stop. And then run the next cell to save your checkpoints! \n",
    "%cd joeynmt \n",
    "! python -m joeynmt train configs/transformer_reverse_{tgt}{src}.yaml"
   ]
  },
  {
   "cell_type": "code",
   "execution_count": 2,
   "metadata": {
    "id": "MBoDS09JM807"
   },
   "outputs": [
    {
     "name": "stderr",
     "output_type": "stream",
     "text": [
      "'cp' is not recognized as an internal or external command,\n",
      "operable program or batch file.\n"
     ]
    }
   ],
   "source": [
    "# Copy the created models from the notebook storage to google drive for persistant storage \n",
    "!cp -r joeynmt/models/${tgt}${src}_reverse_transformer/* \"$gdrive_path/models/${src}${tgt}_reverse_transformer/\""
   ]
  },
  {
   "cell_type": "code",
   "execution_count": null,
   "metadata": {
    "id": "n94wlrCjVc17"
   },
   "outputs": [],
   "source": [
    "# Output our validation accuracy\n",
    "! cat \"$gdrive_path/models/${tgt}${src}_reverse_transformer/validations.txt\""
   ]
  },
  {
   "cell_type": "code",
   "execution_count": null,
   "metadata": {
    "id": "66WhRE9lIhoD"
   },
   "outputs": [],
   "source": [
    "# Test our model\n",
    "! cd joeynmt; python3 -m joeynmt test \"$gdrive_path/models/${tgt}${src}_reverse_transformer/config.yaml\""
   ]
  }
 ],
 "metadata": {
  "accelerator": "GPU",
  "colab": {
   "collapsed_sections": [],
   "name": "starter_notebook_reverse_training.ipynb",
   "provenance": []
  },
  "kernelspec": {
   "display_name": "venv",
   "language": "python",
   "name": "venv"
  },
  "language_info": {
   "codemirror_mode": {
    "name": "ipython",
    "version": 3
   },
   "file_extension": ".py",
   "mimetype": "text/x-python",
   "name": "python",
   "nbconvert_exporter": "python",
   "pygments_lexer": "ipython3",
   "version": "3.7.4"
  }
 },
 "nbformat": 4,
 "nbformat_minor": 1
}
